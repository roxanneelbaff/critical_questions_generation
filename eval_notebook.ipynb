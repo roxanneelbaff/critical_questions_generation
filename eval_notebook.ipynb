{
 "cells": [
  {
   "cell_type": "code",
   "execution_count": null,
   "metadata": {},
   "outputs": [],
   "source": [
    "import json\n",
    "import os, getpass\n",
    "from langchain.chat_models import init_chat_model\n",
    "from IPython.display import Image, display\n",
    "\n",
    "def _set_env(var: str):\n",
    "    if not os.environ.get(var):\n",
    "        os.environ[var] = getpass.getpass(f\"{var}: \")\n",
    "\n",
    "_set_env(\"OPENAI_API_KEY\")\n",
    "_set_env(\"LANGCHAIN_API_KEY\")\n",
    "_set_env(\"MISTRAL_API_KEY\")\n",
    "_set_env(\"TOGETHER_API_KEY\")\n",
    "\n",
    "os.environ[\"LANGCHAIN_TRACING_V2\"] = \"false\"\n",
    "os.environ[\"LANGCHAIN_PROJECT\"] = \"shared_task_critical_questions\"\n"
   ]
  },
  {
   "cell_type": "code",
   "execution_count": null,
   "metadata": {},
   "outputs": [],
   "source": [
    "from experiments.evaluation import evaluate_existing_exp\n",
    "\n",
    "new_results_df, all_experiments_results_df, summary_extended_df = evaluate_existing_exp()"
   ]
  },
  {
   "cell_type": "code",
   "execution_count": null,
   "metadata": {},
   "outputs": [],
   "source": [
    "\n",
    "def show_for_llm(llm_name):\n",
    "    return summary_extended_df[summary_extended_df['model_name'] == llm_name][:3][['upper_bound', \"experiment_name\", \"Useful_ratio\", \"overall_punctuation\", '+/-',\"3/3_ratio\"]]\n",
    "\n",
    "show_for_llm(\"llama8b\")\n",
    "\n",
    "#llama8b_social_n3_Teee_Srdd\n",
    "\n",
    "# 3/3\n",
    "#  4RANKS_VAL_llama8b_social_n3_Teee_Srdd, 4SCORES_VAL_llama70b_social_n2_Tee_Sddd, 4SCORES_VAL_mistral24b_social_n3_Teeo_Sddr"
   ]
  },
  {
   "cell_type": "code",
   "execution_count": 6,
   "metadata": {},
   "outputs": [
    {
     "data": {
      "text/html": [
       "<div>\n",
       "<style scoped>\n",
       "    .dataframe tbody tr th:only-of-type {\n",
       "        vertical-align: middle;\n",
       "    }\n",
       "\n",
       "    .dataframe tbody tr th {\n",
       "        vertical-align: top;\n",
       "    }\n",
       "\n",
       "    .dataframe thead th {\n",
       "        text-align: right;\n",
       "    }\n",
       "</style>\n",
       "<table border=\"1\" class=\"dataframe\">\n",
       "  <thead>\n",
       "    <tr style=\"text-align: right;\">\n",
       "      <th></th>\n",
       "      <th>upper_bound</th>\n",
       "      <th>experiment_name</th>\n",
       "      <th>Useful_ratio</th>\n",
       "      <th>overall_punctuation</th>\n",
       "      <th>+/-</th>\n",
       "      <th>3/3_ratio</th>\n",
       "    </tr>\n",
       "  </thead>\n",
       "  <tbody>\n",
       "    <tr>\n",
       "      <th>373</th>\n",
       "      <td>0.80</td>\n",
       "      <td>4RANKS_VAL_llama8b_social_n3_Teee_Srdd</td>\n",
       "      <td>0.71</td>\n",
       "      <td>0.71</td>\n",
       "      <td>0.18</td>\n",
       "      <td>0.42</td>\n",
       "    </tr>\n",
       "    <tr>\n",
       "      <th>124</th>\n",
       "      <td>0.78</td>\n",
       "      <td>llama8b_social_n3_Teee_Srdd</td>\n",
       "      <td>0.71</td>\n",
       "      <td>0.71</td>\n",
       "      <td>0.15</td>\n",
       "      <td>0.40</td>\n",
       "    </tr>\n",
       "    <tr>\n",
       "      <th>57</th>\n",
       "      <td>0.78</td>\n",
       "      <td>llama8b_social_n3_Teee_Srd</td>\n",
       "      <td>0.70</td>\n",
       "      <td>0.70</td>\n",
       "      <td>0.17</td>\n",
       "      <td>0.42</td>\n",
       "    </tr>\n",
       "  </tbody>\n",
       "</table>\n",
       "</div>"
      ],
      "text/plain": [
       "     upper_bound                         experiment_name  Useful_ratio  \\\n",
       "373         0.80  4RANKS_VAL_llama8b_social_n3_Teee_Srdd          0.71   \n",
       "124         0.78             llama8b_social_n3_Teee_Srdd          0.71   \n",
       "57          0.78              llama8b_social_n3_Teee_Srd          0.70   \n",
       "\n",
       "     overall_punctuation   +/-  3/3_ratio  \n",
       "373                 0.71  0.18       0.42  \n",
       "124                 0.71  0.15       0.40  \n",
       "57                  0.70  0.17       0.42  "
      ]
     },
     "execution_count": 6,
     "metadata": {},
     "output_type": "execute_result"
    }
   ],
   "source": [
    "#\n",
    "show_for_llm(\"llama8b\")\n"
   ]
  },
  {
   "cell_type": "code",
   "execution_count": 7,
   "metadata": {},
   "outputs": [
    {
     "data": {
      "text/html": [
       "<div>\n",
       "<style scoped>\n",
       "    .dataframe tbody tr th:only-of-type {\n",
       "        vertical-align: middle;\n",
       "    }\n",
       "\n",
       "    .dataframe tbody tr th {\n",
       "        vertical-align: top;\n",
       "    }\n",
       "\n",
       "    .dataframe thead th {\n",
       "        text-align: right;\n",
       "    }\n",
       "</style>\n",
       "<table border=\"1\" class=\"dataframe\">\n",
       "  <thead>\n",
       "    <tr style=\"text-align: right;\">\n",
       "      <th></th>\n",
       "      <th>upper_bound</th>\n",
       "      <th>experiment_name</th>\n",
       "      <th>Useful_ratio</th>\n",
       "      <th>overall_punctuation</th>\n",
       "      <th>+/-</th>\n",
       "      <th>3/3_ratio</th>\n",
       "    </tr>\n",
       "  </thead>\n",
       "  <tbody>\n",
       "    <tr>\n",
       "      <th>370</th>\n",
       "      <td>0.82</td>\n",
       "      <td>4SCORES_VAL_mistral24b_social_n3_Teeo_Sddr</td>\n",
       "      <td>0.78</td>\n",
       "      <td>0.78</td>\n",
       "      <td>0.08</td>\n",
       "      <td>0.58</td>\n",
       "    </tr>\n",
       "    <tr>\n",
       "      <th>381</th>\n",
       "      <td>0.82</td>\n",
       "      <td>4RANKING_VAL_mistral24b_social_n3_Teeo_Sddr</td>\n",
       "      <td>0.78</td>\n",
       "      <td>0.78</td>\n",
       "      <td>0.08</td>\n",
       "      <td>0.57</td>\n",
       "    </tr>\n",
       "    <tr>\n",
       "      <th>351</th>\n",
       "      <td>0.82</td>\n",
       "      <td>mistral24b_social_n3_Teeo_Sddr</td>\n",
       "      <td>0.78</td>\n",
       "      <td>0.78</td>\n",
       "      <td>0.07</td>\n",
       "      <td>0.54</td>\n",
       "    </tr>\n",
       "  </tbody>\n",
       "</table>\n",
       "</div>"
      ],
      "text/plain": [
       "     upper_bound                              experiment_name  Useful_ratio  \\\n",
       "370         0.82   4SCORES_VAL_mistral24b_social_n3_Teeo_Sddr          0.78   \n",
       "381         0.82  4RANKING_VAL_mistral24b_social_n3_Teeo_Sddr          0.78   \n",
       "351         0.82               mistral24b_social_n3_Teeo_Sddr          0.78   \n",
       "\n",
       "     overall_punctuation   +/-  3/3_ratio  \n",
       "370                 0.78  0.08       0.58  \n",
       "381                 0.78  0.08       0.57  \n",
       "351                 0.78  0.07       0.54  "
      ]
     },
     "execution_count": 7,
     "metadata": {},
     "output_type": "execute_result"
    }
   ],
   "source": [
    "show_for_llm(\"mistral24b\")\n"
   ]
  },
  {
   "cell_type": "code",
   "execution_count": null,
   "metadata": {},
   "outputs": [],
   "source": [
    "from experiments.validation_agents import VALIDATION_4SCORES_VAL, reevaluate_experiments\n",
    "best_70b = \"llama70b_social_n2_Tee_Sddd\"\n",
    "best_8b = \"llama8b_social_n3_Teee_Srdd\"\n",
    "best_mistral = \"mistral24b_social_n3_Teeo_Sddr\"\n",
    "\n",
    "reevaluate_experiments(social_experiments_lst=[best_70b, best_8b, best_mistral],\n",
    "                       val_type=VALIDATION_4SCORES_VAL,\n",
    "                       OUTPUT_FILES = \"output/elbaff_experiment\")"
   ]
  },
  {
   "cell_type": "code",
   "execution_count": null,
   "metadata": {},
   "outputs": [],
   "source": []
  },
  {
   "cell_type": "code",
   "execution_count": null,
   "metadata": {},
   "outputs": [],
   "source": []
  }
 ],
 "metadata": {
  "kernelspec": {
   "display_name": "Python 3",
   "language": "python",
   "name": "python3"
  },
  "language_info": {
   "codemirror_mode": {
    "name": "ipython",
    "version": 3
   },
   "file_extension": ".py",
   "mimetype": "text/x-python",
   "name": "python",
   "nbconvert_exporter": "python",
   "pygments_lexer": "ipython3",
   "version": "3.11.9"
  }
 },
 "nbformat": 4,
 "nbformat_minor": 2
}
